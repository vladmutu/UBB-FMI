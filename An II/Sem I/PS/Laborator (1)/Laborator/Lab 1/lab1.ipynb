{
 "cells": [
  {
   "cell_type": "code",
   "execution_count": 1,
   "id": "d7cfd515-7e6d-4bdf-9e30-25b1fde1926f",
   "metadata": {
    "tags": []
   },
   "outputs": [],
   "source": [
    "from random import sample\n",
    "from math import factorial\n",
    "from itertools import permutations"
   ]
  },
  {
   "cell_type": "code",
   "execution_count": 2,
   "id": "e5faa496-218f-4870-acbc-ac4dd8808b95",
   "metadata": {
    "tags": []
   },
   "outputs": [
    {
     "data": {
      "text/plain": [
       "[(1, 3, 4), (1, 4, 3), (3, 1, 4), (3, 4, 1), (4, 1, 3), (4, 3, 1)]"
      ]
     },
     "execution_count": 2,
     "metadata": {},
     "output_type": "execute_result"
    }
   ],
   "source": [
    "list(permutations([1,3,4]))"
   ]
  },
  {
   "cell_type": "code",
   "execution_count": 3,
   "id": "d102f6c2-9774-47f1-aeea-4fe1bd38d551",
   "metadata": {
    "tags": []
   },
   "outputs": [
    {
     "data": {
      "text/plain": [
       "24"
      ]
     },
     "execution_count": 3,
     "metadata": {},
     "output_type": "execute_result"
    }
   ],
   "source": [
    "factorial(len('word'))"
   ]
  },
  {
   "cell_type": "code",
   "execution_count": 4,
   "id": "bc2b5cdc-4378-4b81-89d5-6bfc99798582",
   "metadata": {
    "tags": []
   },
   "outputs": [
    {
     "data": {
      "text/plain": [
       "['o', 'd', 'r', 'w']"
      ]
     },
     "execution_count": 4,
     "metadata": {},
     "output_type": "execute_result"
    }
   ],
   "source": [
    "sample('word',4)"
   ]
  },
  {
   "cell_type": "code",
   "execution_count": 5,
   "id": "00c251e3-cff2-4b4b-89c3-be22b67a1b3e",
   "metadata": {
    "tags": []
   },
   "outputs": [
    {
     "name": "stdout",
     "output_type": "stream",
     "text": [
      "Help on method sample in random:\n",
      "\n",
      "random.sample = sample(population, k, *, counts=None) method of random.Random instance\n",
      "    Chooses k unique random elements from a population sequence.\n",
      "\n",
      "    Returns a new list containing elements from the population while\n",
      "    leaving the original population unchanged.  The resulting list is\n",
      "    in selection order so that all sub-slices will also be valid random\n",
      "    samples.  This allows raffle winners (the sample) to be partitioned\n",
      "    into grand prize and second place winners (the subslices).\n",
      "\n",
      "    Members of the population need not be hashable or unique.  If the\n",
      "    population contains repeats, then each occurrence is a possible\n",
      "    selection in the sample.\n",
      "\n",
      "    Repeated elements can be specified one at a time or with the optional\n",
      "    counts parameter.  For example:\n",
      "\n",
      "        sample(['red', 'blue'], counts=[4, 2], k=5)\n",
      "\n",
      "    is equivalent to:\n",
      "\n",
      "        sample(['red', 'red', 'red', 'red', 'blue', 'blue'], k=5)\n",
      "\n",
      "    To choose a sample from a range of integers, use range() for the\n",
      "    population argument.  This is especially fast and space efficient\n",
      "    for sampling from a large population:\n",
      "\n",
      "        sample(range(10000000), 60)\n",
      "\n",
      "Help on built-in function perm in math:\n",
      "\n",
      "math.perm = perm(n, k=None, /)\n",
      "    Number of ways to choose k items from n items without repetition and with order.\n",
      "\n",
      "    Evaluates to n! / (n - k)! when k <= n and evaluates\n",
      "    to zero when k > n.\n",
      "\n",
      "    If k is not specified or is None, then k defaults to n\n",
      "    and the function returns n!.\n",
      "\n",
      "    Raises TypeError if either of the arguments are not integers.\n",
      "    Raises ValueError if either of the arguments are negative.\n",
      "\n",
      "Help on built-in function comb in math:\n",
      "\n",
      "math.comb = comb(n, k, /)\n",
      "    Number of ways to choose k items from n items without repetition and without order.\n",
      "\n",
      "    Evaluates to n! / (k! * (n - k)!) when k <= n and evaluates\n",
      "    to zero when k > n.\n",
      "\n",
      "    Also called the binomial coefficient because it is equivalent\n",
      "    to the coefficient of k-th term in polynomial expansion of the\n",
      "    expression (1 + x)**n.\n",
      "\n",
      "    Raises TypeError if either of the arguments are not integers.\n",
      "    Raises ValueError if either of the arguments are negative.\n",
      "\n"
     ]
    }
   ],
   "source": [
    "help('random.sample')\n",
    "help('math.perm')\n",
    "help('math.comb')"
   ]
  },
  {
   "cell_type": "code",
   "execution_count": 6,
   "id": "1b68319c-0f5c-4d3f-b3e7-5690dcbe5190",
   "metadata": {
    "tags": []
   },
   "outputs": [],
   "source": [
    "from random import sample\n",
    "from math import perm, comb\n",
    "from itertools import permutations, combinations\n",
    "\n",
    "def aranjamente(lista,k,numar_total=False,aleator=False):\n",
    "        \"\"\"Aranjamentele listei, numarul lor total si generare de un aranjament aleator.\"\"\"\n",
    "        if aleator:\n",
    "            return sample(lista,k)\n",
    "        elif numar_total:\n",
    "            return perm(len(lista),k)\n",
    "        else:\n",
    "            return list(permutations(lista,k))\n",
    "        \n",
    "def combinari(lista,k,numar_total=False,aleator=False):\n",
    "        \"\"\"Combinarile listei, numar lor totalu si generare de o combinare aleatoare.\"\"\"\n",
    "        if aleator:\n",
    "            indici_aleatori=sample(list(range(len(lista))),k)\n",
    "            return [lista[i] for i in sorted(indici_aleatori)]\n",
    "        elif numar_total:\n",
    "            return comb(len(lista),k)\n",
    "        else:\n",
    "            return list(combinations(lista,k))"
   ]
  },
  {
   "cell_type": "code",
   "execution_count": 7,
   "id": "bb77f4cc-466c-4cca-8c40-549dd55d1e9e",
   "metadata": {
    "tags": []
   },
   "outputs": [
    {
     "data": {
      "text/plain": [
       "[('w', 'o'),\n",
       " ('w', 'r'),\n",
       " ('w', 'd'),\n",
       " ('o', 'w'),\n",
       " ('o', 'r'),\n",
       " ('o', 'd'),\n",
       " ('r', 'w'),\n",
       " ('r', 'o'),\n",
       " ('r', 'd'),\n",
       " ('d', 'w'),\n",
       " ('d', 'o'),\n",
       " ('d', 'r')]"
      ]
     },
     "execution_count": 7,
     "metadata": {},
     "output_type": "execute_result"
    }
   ],
   "source": [
    "aranjamente('word',2)"
   ]
  },
  {
   "cell_type": "code",
   "execution_count": 8,
   "id": "ac882d03-d785-475e-9315-883e1298bee2",
   "metadata": {
    "tags": []
   },
   "outputs": [
    {
     "data": {
      "text/plain": [
       "12"
      ]
     },
     "execution_count": 8,
     "metadata": {},
     "output_type": "execute_result"
    }
   ],
   "source": [
    "aranjamente('word',2,numar_total=True)"
   ]
  },
  {
   "cell_type": "code",
   "execution_count": 9,
   "id": "00e1ac95-c66f-4d66-a79d-fa01e0bfffe6",
   "metadata": {
    "tags": []
   },
   "outputs": [
    {
     "data": {
      "text/plain": [
       "['d', 'r']"
      ]
     },
     "execution_count": 9,
     "metadata": {},
     "output_type": "execute_result"
    }
   ],
   "source": [
    "aranjamente('word',2,aleator=True)"
   ]
  },
  {
   "cell_type": "code",
   "execution_count": 10,
   "id": "aef05322-6a09-48fd-8421-e02cbaa95ae7",
   "metadata": {
    "tags": []
   },
   "outputs": [
    {
     "data": {
      "text/plain": [
       "[('w', 'o'), ('w', 'r'), ('w', 'd'), ('o', 'r'), ('o', 'd'), ('r', 'd')]"
      ]
     },
     "execution_count": 10,
     "metadata": {},
     "output_type": "execute_result"
    }
   ],
   "source": [
    "combinari('word',2)"
   ]
  },
  {
   "cell_type": "code",
   "execution_count": 11,
   "id": "055ec85b-2c47-4eb7-a80e-afe2e6d3e3cb",
   "metadata": {
    "tags": []
   },
   "outputs": [
    {
     "data": {
      "text/plain": [
       "6"
      ]
     },
     "execution_count": 11,
     "metadata": {},
     "output_type": "execute_result"
    }
   ],
   "source": [
    "combinari('word',2,numar_total=True)"
   ]
  },
  {
   "cell_type": "code",
   "execution_count": 12,
   "id": "9cdc29b4-b640-4a6e-a7e6-faeba141eccf",
   "metadata": {
    "tags": []
   },
   "outputs": [
    {
     "data": {
      "text/plain": [
       "['o', 'd']"
      ]
     },
     "execution_count": 12,
     "metadata": {},
     "output_type": "execute_result"
    }
   ],
   "source": [
    "combinari('word',2,aleator=True)"
   ]
  },
  {
   "cell_type": "code",
   "execution_count": 13,
   "id": "5e2a28d6-23a3-419c-991d-2e2d59aab0b8",
   "metadata": {},
   "outputs": [
    {
     "name": "stdout",
     "output_type": "stream",
     "text": [
      "AAAA\n",
      "AAAB\n",
      "AAAC\n",
      "AAAD\n",
      "AAAE\n",
      "AABB\n",
      "AABC\n",
      "AABD\n",
      "AABE\n",
      "AACC\n",
      "AACD\n",
      "AACE\n",
      "AADD\n",
      "AADE\n",
      "AAEE\n",
      "ABBB\n",
      "ABBC\n",
      "ABBD\n",
      "ABBE\n",
      "ABCC\n",
      "ABCD\n",
      "ABCE\n",
      "ABDD\n",
      "ABDE\n",
      "ABEE\n",
      "ACCC\n",
      "ACCD\n",
      "ACCE\n",
      "ACDD\n",
      "ACDE\n",
      "ACEE\n",
      "ADDD\n",
      "ADDE\n",
      "ADEE\n",
      "AEEE\n",
      "BBBB\n",
      "BBBC\n",
      "BBBD\n",
      "BBBE\n",
      "BBCC\n",
      "BBCD\n",
      "BBCE\n",
      "BBDD\n",
      "BBDE\n",
      "BBEE\n",
      "BCCC\n",
      "BCCD\n",
      "BCCE\n",
      "BCDD\n",
      "BCDE\n",
      "BCEE\n",
      "BDDD\n",
      "BDDE\n",
      "BDEE\n",
      "BEEE\n",
      "CCCC\n",
      "CCCD\n",
      "CCCE\n",
      "CCDD\n",
      "CCDE\n",
      "CCEE\n",
      "CDDD\n",
      "CDDE\n",
      "CDEE\n",
      "CEEE\n",
      "DDDD\n",
      "DDDE\n",
      "DDEE\n",
      "DEEE\n",
      "EEEE\n"
     ]
    }
   ],
   "source": [
    "from itertools import combinations_with_replacement\n",
    "# combinari cu repetitie\n",
    "# din elementele multimii M se aleg k elemente, cu repetitie \n",
    "# (dupa fiecare alegere elementul este pus inapoi in multime); \n",
    "# ordinea nu conteaza\n",
    "\n",
    "k=4\n",
    "for s in combinations_with_replacement('ABCDE', k):\n",
    "    print(''.join(s))"
   ]
  },
  {
   "cell_type": "code",
   "execution_count": null,
   "id": "79456803-f2ee-4faf-9463-ac3e4fdf8fcb",
   "metadata": {},
   "outputs": [
    {
     "ename": "",
     "evalue": "",
     "output_type": "error",
     "traceback": [
      "\u001b[1;31mRunning cells with 'Python 3.12.6' requires the ipykernel package.\n",
      "\u001b[1;31mRun the following command to install 'ipykernel' into the Python environment. \n",
      "\u001b[1;31mCommand: 'c:/Users/vladm/AppData/Local/Programs/Python/Python312/python.exe -m pip install ipykernel -U --user --force-reinstall'"
     ]
    }
   ],
   "source": [
    "contor = 0\n",
    "for indici_persoane in aranjamente(range(12),5): \n",
    "    ok = 1\n",
    "    indici_persoane = sorted(indici_persoane)\n",
    "    for i in range(4):\n",
    "        if indici_persoane[i+1]-indici_persoane[i]==1:\n",
    "            ok = 0\n",
    "            break\n",
    "    contor+=ok\n",
    "print(contor)"
   ]
  },
  {
   "cell_type": "code",
   "execution_count": null,
   "id": "ccd9098f-d735-47cb-89fa-7e87616f3251",
   "metadata": {},
   "outputs": [],
   "source": [
    "perm(5)*comb(8,5)"
   ]
  }
 ],
 "metadata": {
  "kernelspec": {
   "display_name": "Python 3",
   "language": "python",
   "name": "python3"
  },
  "language_info": {
   "codemirror_mode": {
    "name": "ipython",
    "version": 3
   },
   "file_extension": ".py",
   "mimetype": "text/x-python",
   "name": "python",
   "nbconvert_exporter": "python",
   "pygments_lexer": "ipython3",
   "version": "3.12.6"
  }
 },
 "nbformat": 4,
 "nbformat_minor": 5
}
